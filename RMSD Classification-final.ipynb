{
 "cells": [
  {
   "cell_type": "markdown",
   "metadata": {},
   "source": [
    "# Machine Learning Classification of Protein's RMSD Values\n",
    "## Nhan D. Nguyen\n",
    "## CHE-471\n",
    "## Instructor: Dr. Charles Weiss\n",
    "### May 1, 2018"
   ]
  },
  {
   "cell_type": "markdown",
   "metadata": {},
   "source": [
    "## Abstract\n",
    "In this project, the Root Mean Square Deviation (RMSD) of a protein is predicted, compared to its native state. Researchers used six chemical and physical values of a protein (emperical energy, secondary structure penalty, total surface area, pair number, residue length, and Euclidean distance) to simulate its structure. When the modelled structure and the native one are superimposed, they measured the RMSD between two geometrical structures. Using machine learning, we could predict the RMSD of a protein based on six properties given above. If the RMSD of a protein is $\\leq$ 5 Å, the model is considered to be close to the native one. \n",
    "\n",
    "This data is taken from http://bit.ly/PSP-ML<sup>1</sup>."
   ]
  },
  {
   "cell_type": "markdown",
   "metadata": {},
   "source": [
    "## Introduction\n",
    "\n",
    "Predicting protein 3D structures without crystalization has been a challenging problem. Chemical, physical, and biological properties are the determinants of protein folding under specific solvent environments. A lot of problems involves in predicting a protein's native structure such as secondary structure arrangment and misfolding tertiary structures because the protein is not folded in solvent conditions. This research helps to determine whether the predicted proteins are structurally similar to the native, folded proteins based on six experimental factors. \n",
    "The Root Mean Square Deviation (RMSD) is the squareroot of the sum of all distance's changes between matched pairs of $C_\\alpha$ in two superimposed protein sequences.\n",
    "\n",
    " ###                                                       <center>$RMSD=\\sqrt{\\sum_{i=1}^{N}{\\dfrac {(p_i-q_i)^2}{N}}}$</center>\n",
    " \n",
    "where $p_i, q_i$ are coordinate positions of matched pairs of $C_\\alpha$ in the modelled protein, and its native one, respectively.\n",
    "\n",
    "###### There are six physical and chemical properties<sup>1</sup> that can be used to predict the RMSD of a protein.\n",
    "\n",
    "1. Total surface area (Area): the total surface area of a protein that is exposed to the solvent after the protein is fully folded. The surface area of a protein is dependent on the amino acids which ultimately bury the hydrophobic core.\n",
    "\n",
    "2. Euclidean Distance (ED): $C_\\alpha$'s positions were restricted when interacting with neighborhood $C_\\alpha$ in a folded protein$^2$. The sum of distance between each pair of $C_\\alpha$ in a single protein is computed as ED.\n",
    "\n",
    "3. Total empirical energy (Energy): The sum of electrostatic force, Vander Waals, and hydrophobic force.\n",
    "\n",
    "4. Secondary Structure Penalty (SS): it is measured from secondary structure sequence. It is computed as the absolute difference between secondary structures based on coordinates and the probability for the same class structures. \n",
    "\n",
    "5. Pair number (PN): the total number of aliphatic, hydrophobic residue pairs in the protein structure.\n",
    "\n",
    "6. Residue Length (RL): the total number of $C_\\beta$ carborns in the structure\n",
    "\n",
    "The RMSD is computed using Python, instead of using R from the previous research$^1$. The goal is to classify RMSD values into one of five categories, 1, 2, 3, 4, or 5Å. We apply Machine Learning from Sklearn library with support from Pandas, Seaborn, Numpy, and Matplotlib libraries. 4 models are used: Neural Network, Linear Model Classification, K Neighbor Classification, and Randomforest, to analyze the dataset. The model that computes the highest accuracy is optimized using GridSearch to tune specific parameters for that model. Finally, the tuned model is tested with confusion matrix, k fold validation and my own k fold validation. \n"
   ]
  },
  {
   "cell_type": "code",
   "execution_count": 1,
   "metadata": {},
   "outputs": [],
   "source": [
    "import pandas as pd\n",
    "import numpy as np\n",
    "import seaborn as sns\n",
    "import matplotlib.pyplot as plt\n",
    "%matplotlib inline\n",
    "\n",
    "from sklearn.model_selection import GridSearchCV\n",
    "from sklearn.ensemble import RandomForestClassifier\n",
    "from sklearn.linear_model import SGDClassifier\n",
    "from sklearn.neighbors import KNeighborsClassifier\n",
    "from sklearn.neural_network import MLPClassifier\n",
    "from sklearn.model_selection import GridSearchCV\n",
    "from sklearn.model_selection import train_test_split\n",
    "from sklearn.model_selection import cross_val_score, ShuffleSplit\n",
    "from sklearn.metrics import confusion_matrix\n",
    "\n",
    "import warnings\n",
    "warnings.filterwarnings('ignore')"
   ]
  },
  {
   "cell_type": "markdown",
   "metadata": {},
   "source": [
    "## Method & Result"
   ]
  },
  {
   "cell_type": "markdown",
   "metadata": {},
   "source": [
    "### I. Dataset\n",
    "The dataset was extracted from a file named \"PSP-Dataset.csv\" form http://bit.ly/PSP-ML<sup>1</sup>"
   ]
  },
  {
   "cell_type": "code",
   "execution_count": 2,
   "metadata": {
    "scrolled": true
   },
   "outputs": [
    {
     "data": {
      "text/html": [
       "<div>\n",
       "<style scoped>\n",
       "    .dataframe tbody tr th:only-of-type {\n",
       "        vertical-align: middle;\n",
       "    }\n",
       "\n",
       "    .dataframe tbody tr th {\n",
       "        vertical-align: top;\n",
       "    }\n",
       "\n",
       "    .dataframe thead th {\n",
       "        text-align: right;\n",
       "    }\n",
       "</style>\n",
       "<table border=\"1\" class=\"dataframe\">\n",
       "  <thead>\n",
       "    <tr style=\"text-align: right;\">\n",
       "      <th></th>\n",
       "      <th>RMSD</th>\n",
       "      <th>Area</th>\n",
       "      <th>ED</th>\n",
       "      <th>Energy</th>\n",
       "      <th>SS</th>\n",
       "      <th>ResidueLength</th>\n",
       "      <th>PairNumber</th>\n",
       "    </tr>\n",
       "  </thead>\n",
       "  <tbody>\n",
       "    <tr>\n",
       "      <th>0</th>\n",
       "      <td>2.742</td>\n",
       "      <td>4722.92</td>\n",
       "      <td>4019.64</td>\n",
       "      <td>-1596.90</td>\n",
       "      <td>13</td>\n",
       "      <td>79</td>\n",
       "      <td>317</td>\n",
       "    </tr>\n",
       "    <tr>\n",
       "      <th>1</th>\n",
       "      <td>1.557</td>\n",
       "      <td>4059.12</td>\n",
       "      <td>2191.03</td>\n",
       "      <td>-1146.08</td>\n",
       "      <td>20</td>\n",
       "      <td>54</td>\n",
       "      <td>165</td>\n",
       "    </tr>\n",
       "    <tr>\n",
       "      <th>2</th>\n",
       "      <td>2.362</td>\n",
       "      <td>4773.56</td>\n",
       "      <td>2787.99</td>\n",
       "      <td>-1263.38</td>\n",
       "      <td>46</td>\n",
       "      <td>67</td>\n",
       "      <td>224</td>\n",
       "    </tr>\n",
       "    <tr>\n",
       "      <th>3</th>\n",
       "      <td>3.892</td>\n",
       "      <td>8271.27</td>\n",
       "      <td>9545.98</td>\n",
       "      <td>-2848.93</td>\n",
       "      <td>26</td>\n",
       "      <td>138</td>\n",
       "      <td>554</td>\n",
       "    </tr>\n",
       "    <tr>\n",
       "      <th>4</th>\n",
       "      <td>4.454</td>\n",
       "      <td>7102.16</td>\n",
       "      <td>14148.80</td>\n",
       "      <td>-2381.15</td>\n",
       "      <td>85</td>\n",
       "      <td>120</td>\n",
       "      <td>809</td>\n",
       "    </tr>\n",
       "  </tbody>\n",
       "</table>\n",
       "</div>"
      ],
      "text/plain": [
       "    RMSD     Area        ED   Energy  SS  ResidueLength  PairNumber\n",
       "0  2.742  4722.92   4019.64 -1596.90  13             79         317\n",
       "1  1.557  4059.12   2191.03 -1146.08  20             54         165\n",
       "2  2.362  4773.56   2787.99 -1263.38  46             67         224\n",
       "3  3.892  8271.27   9545.98 -2848.93  26            138         554\n",
       "4  4.454  7102.16  14148.80 -2381.15  85            120         809"
      ]
     },
     "execution_count": 2,
     "metadata": {},
     "output_type": "execute_result"
    }
   ],
   "source": [
    "data=pd.read_csv('PSP-Dataset.csv')\n",
    "data.head()"
   ]
  },
  {
   "cell_type": "markdown",
   "metadata": {},
   "source": [
    "###### Processing data:\n",
    "Several RMSD(s) have values of 0 which, from the source, meant the RMSD was not predicted. Therefore, we wanted to get rid of those 0 values in RMSD\n",
    "Moreover, the raw data have RMSD in 'float', but we wanted them to be 'integers' for classification purposes.  "
   ]
  },
  {
   "cell_type": "code",
   "execution_count": 3,
   "metadata": {
    "scrolled": true
   },
   "outputs": [
    {
     "data": {
      "text/html": [
       "<div>\n",
       "<style scoped>\n",
       "    .dataframe tbody tr th:only-of-type {\n",
       "        vertical-align: middle;\n",
       "    }\n",
       "\n",
       "    .dataframe tbody tr th {\n",
       "        vertical-align: top;\n",
       "    }\n",
       "\n",
       "    .dataframe thead th {\n",
       "        text-align: right;\n",
       "    }\n",
       "</style>\n",
       "<table border=\"1\" class=\"dataframe\">\n",
       "  <thead>\n",
       "    <tr style=\"text-align: right;\">\n",
       "      <th></th>\n",
       "      <th>RMSD</th>\n",
       "      <th>Area</th>\n",
       "      <th>ED</th>\n",
       "      <th>Energy</th>\n",
       "      <th>SS</th>\n",
       "      <th>ResidueLength</th>\n",
       "      <th>PairNumber</th>\n",
       "    </tr>\n",
       "  </thead>\n",
       "  <tbody>\n",
       "    <tr>\n",
       "      <th>0</th>\n",
       "      <td>3</td>\n",
       "      <td>4722.92</td>\n",
       "      <td>4019.64</td>\n",
       "      <td>-1596.90</td>\n",
       "      <td>13</td>\n",
       "      <td>79</td>\n",
       "      <td>317</td>\n",
       "    </tr>\n",
       "    <tr>\n",
       "      <th>1</th>\n",
       "      <td>2</td>\n",
       "      <td>4059.12</td>\n",
       "      <td>2191.03</td>\n",
       "      <td>-1146.08</td>\n",
       "      <td>20</td>\n",
       "      <td>54</td>\n",
       "      <td>165</td>\n",
       "    </tr>\n",
       "    <tr>\n",
       "      <th>2</th>\n",
       "      <td>2</td>\n",
       "      <td>4773.56</td>\n",
       "      <td>2787.99</td>\n",
       "      <td>-1263.38</td>\n",
       "      <td>46</td>\n",
       "      <td>67</td>\n",
       "      <td>224</td>\n",
       "    </tr>\n",
       "    <tr>\n",
       "      <th>3</th>\n",
       "      <td>4</td>\n",
       "      <td>8271.27</td>\n",
       "      <td>9545.98</td>\n",
       "      <td>-2848.93</td>\n",
       "      <td>26</td>\n",
       "      <td>138</td>\n",
       "      <td>554</td>\n",
       "    </tr>\n",
       "    <tr>\n",
       "      <th>4</th>\n",
       "      <td>4</td>\n",
       "      <td>7102.16</td>\n",
       "      <td>14148.80</td>\n",
       "      <td>-2381.15</td>\n",
       "      <td>85</td>\n",
       "      <td>120</td>\n",
       "      <td>809</td>\n",
       "    </tr>\n",
       "  </tbody>\n",
       "</table>\n",
       "</div>"
      ],
      "text/plain": [
       "   RMSD     Area        ED   Energy  SS  ResidueLength  PairNumber\n",
       "0     3  4722.92   4019.64 -1596.90  13             79         317\n",
       "1     2  4059.12   2191.03 -1146.08  20             54         165\n",
       "2     2  4773.56   2787.99 -1263.38  46             67         224\n",
       "3     4  8271.27   9545.98 -2848.93  26            138         554\n",
       "4     4  7102.16  14148.80 -2381.15  85            120         809"
      ]
     },
     "execution_count": 3,
     "metadata": {},
     "output_type": "execute_result"
    }
   ],
   "source": [
    "data.drop(data[data['RMSD'] ==0].index, inplace=True)\n",
    "data.index=np.arange(len(data))\n",
    "\n",
    "RMSD=np.around(data['RMSD'],decimals=0)\n",
    "RMSD=RMSD.astype('int64')\n",
    "data['RMSD']=RMSD\n",
    "\n",
    "data.head()"
   ]
  },
  {
   "cell_type": "markdown",
   "metadata": {},
   "source": [
    "*Dataset was split into train and test sets. According to the paper, 30% of the datasets was assigned to test*"
   ]
  },
  {
   "cell_type": "code",
   "execution_count": 4,
   "metadata": {},
   "outputs": [],
   "source": [
    "y=data['RMSD']\n",
    "X=data.drop('RMSD', axis=1)\n",
    "X_train, X_test, y_train, y_test= train_test_split(X,y, test_size=0.3)"
   ]
  },
  {
   "cell_type": "markdown",
   "metadata": {},
   "source": [
    "## II. Model testing:\n",
    "###### Linear Model Classification"
   ]
  },
  {
   "cell_type": "code",
   "execution_count": 5,
   "metadata": {},
   "outputs": [
    {
     "data": {
      "text/plain": [
       "0.07727144070195302"
      ]
     },
     "execution_count": 5,
     "metadata": {},
     "output_type": "execute_result"
    }
   ],
   "source": [
    "sgd=SGDClassifier()\n",
    "sgd.fit(X_train, y_train)\n",
    "sgd.score(X_test,y_test)"
   ]
  },
  {
   "cell_type": "markdown",
   "metadata": {},
   "source": [
    "###### K near neighbor classification"
   ]
  },
  {
   "cell_type": "code",
   "execution_count": 6,
   "metadata": {},
   "outputs": [
    {
     "data": {
      "text/plain": [
       "0.6422303990942542"
      ]
     },
     "execution_count": 6,
     "metadata": {},
     "output_type": "execute_result"
    }
   ],
   "source": [
    "knn=KNeighborsClassifier(n_neighbors=5)\n",
    "knn.fit(X_train,y_train)\n",
    "knn.score(X_test,y_test)"
   ]
  },
  {
   "cell_type": "markdown",
   "metadata": {},
   "source": [
    "###### Neural Network with 3 layers each 100 nodes"
   ]
  },
  {
   "cell_type": "code",
   "execution_count": 7,
   "metadata": {},
   "outputs": [
    {
     "data": {
      "text/plain": [
       "0.3212567223322955"
      ]
     },
     "execution_count": 7,
     "metadata": {},
     "output_type": "execute_result"
    }
   ],
   "source": [
    "mlp= MLPClassifier(hidden_layer_sizes=(100,100,100),max_iter=1000,alpha=0.00001)\n",
    "mlp.fit(X_train, y_train)\n",
    "mlp.score(X_test,y_test)"
   ]
  },
  {
   "cell_type": "markdown",
   "metadata": {},
   "source": [
    "###### Random Forest Classifier: \n",
    "This model yielded the highest accuracy for the test dataset. Increasing 'min_samples_split' parameter in RFC also reduced overfitting, but too high 'min_samples_split' (>80) reduced the accuracy of the train set. The RFC model was further tuned with Gridsearch."
   ]
  },
  {
   "cell_type": "code",
   "execution_count": 8,
   "metadata": {},
   "outputs": [
    {
     "data": {
      "text/plain": [
       "0.6614774978771583"
      ]
     },
     "execution_count": 8,
     "metadata": {},
     "output_type": "execute_result"
    }
   ],
   "source": [
    "rfc=RandomForestClassifier(n_estimators=30, min_samples_split=80)\n",
    "rfc.fit(X_train,y_train)\n",
    "y_pred=rfc.predict(X_test)\n",
    "rfc.score(X_test,y_test)"
   ]
  },
  {
   "cell_type": "code",
   "execution_count": 9,
   "metadata": {},
   "outputs": [
    {
     "data": {
      "text/plain": [
       "0.6940905229947821"
      ]
     },
     "execution_count": 9,
     "metadata": {},
     "output_type": "execute_result"
    }
   ],
   "source": [
    "rfc.score(X_train,y_train)"
   ]
  },
  {
   "cell_type": "markdown",
   "metadata": {},
   "source": [
    "### GridSearch\n",
    "\n",
    "The GridSearch was used to tune the number of features which were used to train the model. This was important to remove some features because they had low importants values, less contributing to model prediction."
   ]
  },
  {
   "cell_type": "code",
   "execution_count": 13,
   "metadata": {},
   "outputs": [
    {
     "name": "stdout",
     "output_type": "stream",
     "text": [
      "CPU times: user 3 µs, sys: 1e+03 ns, total: 4 µs\n",
      "Wall time: 9.06 µs\n"
     ]
    },
    {
     "data": {
      "text/plain": [
       "{'max_features': 4,\n",
       " 'min_impurity_decrease': 0,\n",
       " 'min_weight_fraction_leaf': 0.0}"
      ]
     },
     "execution_count": 13,
     "metadata": {},
     "output_type": "execute_result"
    }
   ],
   "source": [
    "%time\n",
    "param_grid = {\"max_features\": np.arange(6)+1, \"min_impurity_decrease\": np.arange(5),\"min_weight_fraction_leaf\":np.arange(5)/10}\n",
    "gs=GridSearchCV(rfc,param_grid=param_grid)\n",
    "gs.fit(X_train, y_train)\n",
    "gs.best_params_"
   ]
  },
  {
   "cell_type": "code",
   "execution_count": 14,
   "metadata": {},
   "outputs": [
    {
     "data": {
      "text/plain": [
       "0.6685536371355788"
      ]
     },
     "execution_count": 14,
     "metadata": {},
     "output_type": "execute_result"
    }
   ],
   "source": [
    "y_pred=gs.predict(X_test)\n",
    "gs.score(X_test,y_test)"
   ]
  },
  {
   "cell_type": "code",
   "execution_count": 15,
   "metadata": {},
   "outputs": [
    {
     "data": {
      "text/plain": [
       "0.6988229583788376"
      ]
     },
     "execution_count": 15,
     "metadata": {},
     "output_type": "execute_result"
    }
   ],
   "source": [
    "gs.score(X_train,y_train)"
   ]
  },
  {
   "cell_type": "markdown",
   "metadata": {},
   "source": [
    "### K fold validation\n",
    "\n",
    "This method divided the dataset into k subsets, one of which would be the test set, and the others are train sets. K fold validation helped to test different sets of the whole datasets to make the prediction more objective and fully evaluated."
   ]
  },
  {
   "cell_type": "code",
   "execution_count": 16,
   "metadata": {
    "scrolled": true
   },
   "outputs": [
    {
     "data": {
      "text/plain": [
       "array([0.67572156, 0.70543294, 0.67487267, 0.66129032, 0.67826825])"
      ]
     },
     "execution_count": 16,
     "metadata": {},
     "output_type": "execute_result"
    }
   ],
   "source": [
    "cv=ShuffleSplit(n_splits=5)\n",
    "score=cross_val_score(gs, X, y, cv=cv)\n",
    "score"
   ]
  },
  {
   "cell_type": "code",
   "execution_count": 17,
   "metadata": {},
   "outputs": [
    {
     "data": {
      "text/plain": [
       "0.6791171477079796"
      ]
     },
     "execution_count": 17,
     "metadata": {},
     "output_type": "execute_result"
    }
   ],
   "source": [
    "score.mean()"
   ]
  },
  {
   "cell_type": "markdown",
   "metadata": {},
   "source": [
    "* This is my own code for K-fold validation. The result would show k scores of k different runs and the average of k scores."
   ]
  },
  {
   "cell_type": "code",
   "execution_count": 18,
   "metadata": {},
   "outputs": [],
   "source": [
    "def kfoldval(k,algorithm,y, X):\n",
    "    X_new=X\n",
    "    y_new=y\n",
    "    \n",
    "    from sklearn.utils import shuffle\n",
    "    X_new['y']=y_new\n",
    "    X_new= shuffle(X_new,random_state=0)\n",
    "    X_new=X_new.reset_index()\n",
    "    X_new.drop('index',axis=1,inplace=True)\n",
    "    y_new=X_new['y']\n",
    "    X_new=X_new.drop('y',axis=1)\n",
    "    \n",
    "    score_sets=[]\n",
    "    data_length=len(y)\n",
    "    div=int(np.floor(data_length/k))\n",
    "    totalscore=0\n",
    "    start=0\n",
    "    for i in np.arange(k):\n",
    "        stop=start+div\n",
    "        X_test=X_new[start:stop]\n",
    "        y_test=y_new[start:stop]\n",
    "        X_train=X_new.drop(X_test.index, axis=0)\n",
    "        y_train=y_new.drop(y_test.index,axis=0)\n",
    "        algorithm=algorithm.fit(X_train,y_train)\n",
    "        score=algorithm.score(X_test,y_test)\n",
    "        score_sets.append(score)\n",
    "        totalscore=np.sum(score_sets)\n",
    "        start=stop\n",
    "    return (score_sets, totalscore/k)"
   ]
  },
  {
   "cell_type": "code",
   "execution_count": 22,
   "metadata": {},
   "outputs": [
    {
     "data": {
      "text/plain": [
       "([0.6554800339847069,\n",
       "  0.6669498725573492,\n",
       "  0.6520815632965166,\n",
       "  0.6635514018691588,\n",
       "  0.6707731520815633],\n",
       " 0.661767204757859)"
      ]
     },
     "execution_count": 22,
     "metadata": {},
     "output_type": "execute_result"
    }
   ],
   "source": [
    "kfoldval(5,gs,y,X)"
   ]
  },
  {
   "cell_type": "markdown",
   "metadata": {},
   "source": [
    "### Confusion matrix\n",
    "The matrix visualized how many data were predicted correctly within each class of RMSD. "
   ]
  },
  {
   "cell_type": "code",
   "execution_count": 23,
   "metadata": {},
   "outputs": [
    {
     "data": {
      "text/plain": [
       "Text(33,0.5,'True RMSD')"
      ]
     },
     "execution_count": 23,
     "metadata": {},
     "output_type": "execute_result"
    },
    {
     "data": {
      "image/png": "[encoded data removed]",
      "text/plain": [
       "<Figure size 432x288 with 2 Axes>"
      ]
     },
     "metadata": {},
     "output_type": "display_data"
    }
   ],
   "source": [
    "cm=confusion_matrix(y_test, y_pred)\n",
    "sns.heatmap(cm,cmap='Blues',annot=True)\n",
    "plt.xlabel('Predicted RMSD')\n",
    "plt.ylabel('True RMSD')"
   ]
  },
  {
   "cell_type": "markdown",
   "metadata": {},
   "source": [
    "The confusion matrix showed our prediction were more accurate in low RMSD than in high RMSD."
   ]
  },
  {
   "cell_type": "code",
   "execution_count": 32,
   "metadata": {},
   "outputs": [
    {
     "data": {
      "text/plain": [
       "[<matplotlib.lines.Line2D at 0x1a1f1796d8>]"
      ]
     },
     "execution_count": 32,
     "metadata": {},
     "output_type": "execute_result"
    },
    {
     "data": {
      "image/png": "[encoded data removed]",
      "text/plain": [
       "<Figure size 432x432 with 3 Axes>"
      ]
     },
     "metadata": {},
     "output_type": "display_data"
    }
   ],
   "source": [
    "g= sns.jointplot(y_test,y_pred,kind='kde')\n",
    "g.plot_joint(plt.scatter)\n",
    "g.ax_joint.set_xlabel('True RMSD')\n",
    "g.ax_joint.set_ylabel('Predicted RMSD')\n",
    "plt.plot(y_test,y_test)"
   ]
  },
  {
   "cell_type": "markdown",
   "metadata": {},
   "source": [
    "## Discussion and Conclusion\n",
    "\n",
    "Compared to the three other models Neural Network, Linear Model Classification, and K Nearest Neighbor Classification, the Random Forest predicted the most accurate class of RMSD. Randomforest was overfitting because the score of train set was significantly higher than the test set. \n",
    "\n",
    "GridSearch was conducted to tune the same parameter ('mtry' in R) as the article. Several parameters have been tested but the best fit values were similar to the default set. The accuracy was improve a little bit (0.01) but still became overfitting. Tunning the 'min_samples_split' helps reduce overfitting.\n",
    "\n",
    "The K-fold showed that different sets of the data were consistent with the eventual score. Moreover, my k-fold also worked because the computed scores were close to these of the default k-fold. \n"
   ]
  },
  {
   "cell_type": "markdown",
   "metadata": {},
   "source": [
    "## Acknowledge:\n",
    "I thank Dr. Weiss, Wabash Chemistry Department for supervising the computing codes and advising on model selections.\n",
    "\n",
    "I thank Dr. Novak, Wabash Chemistry Department for helpful discussions."
   ]
  },
  {
   "cell_type": "markdown",
   "metadata": {},
   "source": [
    "## References\n",
    "\n",
    "1. Pathak, Yadunath & Singh, Prashant & Singh, Pramod & Saraswat, Mukesh. (2015). Protein structure prediction (RMSD $\\leq$ 5 Å) using machine learning models. International Journal of Data Mining and Bioinformatics. 14.\n",
    "\n",
    "2. Aditya, Mittal & B. Jayaram. (2012) Backbones of Folded Proteins Reveal Novel Invariant Amino Acid Neighborhoods, Journal of Biomolecular Structure and Dynamics, 28:4, 443-454, DOI: 10.1080/073911011010524954 "
   ]
  }
 ],
 "metadata": {
  "kernelspec": {
   "display_name": "Python 2",
   "language": "python",
   "name": "python2"
  },
  "language_info": {
   "codemirror_mode": {
    "name": "ipython",
    "version": 2
   },
   "file_extension": ".py",
   "mimetype": "text/x-python",
   "name": "python",
   "nbconvert_exporter": "python",
   "pygments_lexer": "ipython2",
   "version": "2.7.15"
  }
 },
 "nbformat": 4,
 "nbformat_minor": 2
}
